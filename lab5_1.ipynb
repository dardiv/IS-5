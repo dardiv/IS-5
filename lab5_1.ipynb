{
 "cells": [
  {
   "cell_type": "code",
   "execution_count": 24,
   "metadata": {},
   "outputs": [],
   "source": [
    "from pyeasyga import pyeasyga\n",
    "import json"
   ]
  },
  {
   "cell_type": "code",
   "execution_count": 25,
   "metadata": {},
   "outputs": [],
   "source": [
    "knapsack_data = []\n",
    "res_volume = 0\n",
    "res_value = 0\n",
    "res_weight = 0\n",
    "res_items = []"
   ]
  },
  {
   "cell_type": "code",
   "execution_count": 26,
   "metadata": {},
   "outputs": [
    {
     "name": "stdout",
     "output_type": "stream",
     "text": [
      "weight: 13000.0\n",
      "volume: 12.0\n"
     ]
    },
    {
     "data": {
      "text/plain": [
       "[13000, 12]"
      ]
     },
     "execution_count": 26,
     "metadata": {},
     "output_type": "execute_result"
    }
   ],
   "source": [
    "file = '1.txt'\n",
    "with open(file) as f:\n",
    "    data = f.readlines()\n",
    "\n",
    "items = [line.strip().split() for line in data]\n",
    "\n",
    "items = [[int(float(j)) for j in i] for i in items]\n",
    "    \n",
    "weight_capacity=float(items[0][0])\n",
    "volume_capacity=float(items[0][1])\n",
    "print('weight: ' + str(weight_capacity))\n",
    "print('volume: ' + str(volume_capacity))\n",
    "items.pop(0)"
   ]
  },
  {
   "cell_type": "code",
   "execution_count": 27,
   "metadata": {},
   "outputs": [],
   "source": [
    "for item in items:\n",
    "    knapsack_data.append({'weight': int(item[0]),\n",
    "                          'volume': float(item[1]),\n",
    "                          'value': int(item[2])})"
   ]
  },
  {
   "cell_type": "code",
   "execution_count": 28,
   "metadata": {},
   "outputs": [],
   "source": [
    "def fitness(one, data):\n",
    "    weight = 0\n",
    "    volume = 0\n",
    "    value = 0\n",
    "    \n",
    "    for i in range(len(one)):\n",
    "        if one[i]:\n",
    "            weight += data[i]['weight']\n",
    "            volume += data[i]['volume']\n",
    "            value += data[i]['value']\n",
    "\n",
    "    if weight > weight_capacity or volume > volume_capacity:\n",
    "        value = 0\n",
    "    return value"
   ]
  },
  {
   "cell_type": "code",
   "execution_count": 29,
   "metadata": {},
   "outputs": [],
   "source": [
    "ga = pyeasyga.GeneticAlgorithm(knapsack_data)\n",
    "ga.population_size = 200\n",
    "\n",
    "ga.fitness_function = fitness\n",
    "ga.run()\n",
    "\n",
    "res = ga.best_individual()"
   ]
  },
  {
   "cell_type": "code",
   "execution_count": 30,
   "metadata": {},
   "outputs": [
    {
     "name": "stdout",
     "output_type": "stream",
     "text": [
      "{'volume': 5.0, 'items': [0, 3, 4, 9, 10, 11, 15, 16, 17, 19, 23, 24, 25, 26, 27, 28, 29], 'value': 4497, 'weight': 12915}\n"
     ]
    }
   ],
   "source": [
    "for i in range(len(res[1])):\n",
    "    if res[1][i] > 0:\n",
    "        res_weight += knapsack_data[i]['weight']\n",
    "        res_volume += knapsack_data[i]['volume']\n",
    "        res_value += knapsack_data[i]['value']\n",
    "        res_items.append(i)\n",
    "\n",
    "res = {\n",
    "    'weight': res_weight,\n",
    "    'volume': res_volume,\n",
    "    'value': res_value,\n",
    "    'items': res_items\n",
    "}\n",
    "\n",
    "print(res)\n",
    "\n",
    "with open('gen_lib.json', 'w') as file:\n",
    "    json.dump(res, file)"
   ]
  }
 ],
 "metadata": {
  "kernelspec": {
   "display_name": "Python 2",
   "language": "python",
   "name": "python2"
  },
  "language_info": {
   "codemirror_mode": {
    "name": "ipython",
    "version": 2
   },
   "file_extension": ".py",
   "mimetype": "text/x-python",
   "name": "python",
   "nbconvert_exporter": "python",
   "pygments_lexer": "ipython2",
   "version": "2.7.16"
  }
 },
 "nbformat": 4,
 "nbformat_minor": 2
}
