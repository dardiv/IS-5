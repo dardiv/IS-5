{
 "cells": [
  {
   "cell_type": "code",
   "execution_count": 64,
   "metadata": {},
   "outputs": [],
   "source": [
    "from ortools.algorithms import pywrapknapsack_solver\n",
    "import json"
   ]
  },
  {
   "cell_type": "code",
   "execution_count": 65,
   "metadata": {},
   "outputs": [],
   "source": [
    "weights=[]\n",
    "values=[]\n",
    "volumes=[]\n",
    "\n",
    "packed_items = []\n",
    "packed_weights = []\n",
    "total_weight = 0\n",
    "total_volume=0\n",
    "packed_items_str = ''"
   ]
  },
  {
   "cell_type": "code",
   "execution_count": 66,
   "metadata": {},
   "outputs": [
    {
     "name": "stdout",
     "output_type": "stream",
     "text": [
      "weight:  13000.0 \n",
      "volume:  12.0\n"
     ]
    }
   ],
   "source": [
    "file = '1.txt'\n",
    "with open(file) as f:\n",
    "    data = f.readlines()\n",
    "\n",
    "items = [line.strip().split() for line in data]\n",
    "    \n",
    "weight_capacity=float(items[0][0])\n",
    "volume_capacity=float(items[0][1])\n",
    "print('weight: ', weight_capacity, '\\nvolume: ', volume_capacity)\n",
    "capacities=[weight_capacity, volume_capacity * 10]"
   ]
  },
  {
   "cell_type": "code",
   "execution_count": 67,
   "metadata": {},
   "outputs": [],
   "source": [
    "items.pop(0)\n",
    "\n",
    "for item in items:\n",
    "    weights.append(int(item[0]))\n",
    "    values.append(int(item[2]))\n",
    "    volumes.append(int(float(item[1])*10))"
   ]
  },
  {
   "cell_type": "code",
   "execution_count": 68,
   "metadata": {},
   "outputs": [],
   "source": [
    "solver = pywrapknapsack_solver.KnapsackSolver(\n",
    "    pywrapknapsack_solver.KnapsackSolver\n",
    "        .KNAPSACK_MULTIDIMENSION_BRANCH_AND_BOUND_SOLVER,\n",
    "    '')\n",
    "\n",
    "solver.Init(values, [weights, volumes], capacities)\n",
    "computed_value = solver.Solve()"
   ]
  },
  {
   "cell_type": "code",
   "execution_count": 69,
   "metadata": {},
   "outputs": [],
   "source": [
    "for i in range(len(values)):\n",
    "    if solver.BestSolutionContains(i):\n",
    "        packed_items.append(i)\n",
    "        packed_weights.append(float([weights, volumes][0][i]))\n",
    "        total_weight += [weights, volumes][0][i]\n",
    "        total_volume += [weights, volumes][1][i]"
   ]
  },
  {
   "cell_type": "code",
   "execution_count": 70,
   "metadata": {},
   "outputs": [
    {
     "name": "stdout",
     "output_type": "stream",
     "text": [
      "{'Total  value': 4533, 'Total weight': 12855, 'Total volume': 12.0, 'Packed items': [0, 3, 4, 9, 10, 15, 16, 17, 19, 22, 23, 24, 25, 26, 27, 29], 'Packed weights': [733.0, 753.0, 402.0, 594.0, 959.0, 560.0, 786.0, 369.0, 1358.0, 1612.0, 869.0, 1014.0, 656.0, 1333.0, 166.0, 691.0]}\n"
     ]
    }
   ],
   "source": [
    "res = {\n",
    "    'Total  value': computed_value,\n",
    "    'Total weight': total_weight,\n",
    "    'Total volume': total_volume/10,\n",
    "    'Packed items': packed_items,\n",
    "    'Packed weights': packed_weights\n",
    "}\n",
    "\n",
    "print(res)\n",
    "\n",
    "with open('gen_lib.json', 'w') as outfile:\n",
    "    json.dump(res, outfile)"
   ]
  },
  {
   "cell_type": "code",
   "execution_count": null,
   "metadata": {},
   "outputs": [],
   "source": []
  }
 ],
 "metadata": {
  "kernelspec": {
   "display_name": "Python 3",
   "language": "python",
   "name": "python3"
  },
  "language_info": {
   "codemirror_mode": {
    "name": "ipython",
    "version": 3
   },
   "file_extension": ".py",
   "mimetype": "text/x-python",
   "name": "python",
   "nbconvert_exporter": "python",
   "pygments_lexer": "ipython3",
   "version": "3.7.3"
  }
 },
 "nbformat": 4,
 "nbformat_minor": 2
}
