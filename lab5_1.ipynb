{
 "cells": [
  {
   "cell_type": "code",
   "execution_count": 2,
   "metadata": {},
   "outputs": [],
   "source": [
    "from pyeasyga import pyeasyga\n",
    "import json"
   ]
  },
  {
   "cell_type": "code",
   "execution_count": 3,
   "metadata": {},
   "outputs": [],
   "source": [
    "knapsack_data = []"
   ]
  },
  {
   "cell_type": "code",
   "execution_count": 9,
   "metadata": {},
   "outputs": [
    {
     "name": "stdout",
     "output_type": "stream",
     "text": [
      "('weight: ', 13000.0)\n",
      "('volume: ', 12.0)\n"
     ]
    },
    {
     "data": {
      "text/plain": [
       "[13000, 12]"
      ]
     },
     "execution_count": 9,
     "metadata": {},
     "output_type": "execute_result"
    }
   ],
   "source": [
    "file = '1.txt'\n",
    "with open(file) as f:\n",
    "    data = f.readlines()\n",
    "\n",
    "items = [line.strip().split() for line in data]\n",
    "\n",
    "items = [[int(float(j)) for j in i] for i in items]\n",
    "    \n",
    "weight_capacity=float(items[0][0])\n",
    "volume_capacity=float(items[0][1])\n",
    "print('weight: ', weight_capacity)\n",
    "print('volume: ', volume_capacity)\n",
    "items.pop(0)"
   ]
  },
  {
   "cell_type": "code",
   "execution_count": 5,
   "metadata": {},
   "outputs": [],
   "source": [
    "for item in items:\n",
    "    knapsack_data.append({'weight': int(item[0]),\n",
    "                          'volume': float(item[1]),\n",
    "                          'value': int(item[2])})"
   ]
  },
  {
   "cell_type": "code",
   "execution_count": 6,
   "metadata": {},
   "outputs": [
    {
     "data": {
      "text/plain": [
       "[{'value': 189, 'volume': 0.0, 'weight': 733},\n",
       " {'value': 252, 'volume': 0.0, 'weight': 1296},\n",
       " {'value': 201, 'volume': 0.0, 'weight': 1548},\n",
       " {'value': 341, 'volume': 1.0, 'weight': 753},\n",
       " {'value': 209, 'volume': 1.0, 'weight': 402},\n",
       " {'value': 299, 'volume': 0.0, 'weight': 1658},\n",
       " {'value': 153, 'volume': 0.0, 'weight': 1315},\n",
       " {'value': 260, 'volume': 1.0, 'weight': 988},\n",
       " {'value': 123, 'volume': 0.0, 'weight': 1318},\n",
       " {'value': 383, 'volume': 0.0, 'weight': 594},\n",
       " {'value': 368, 'volume': 0.0, 'weight': 959},\n",
       " {'value': 153, 'volume': 1.0, 'weight': 660},\n",
       " {'value': 182, 'volume': 0.0, 'weight': 1603},\n",
       " {'value': 144, 'volume': 1.0, 'weight': 768},\n",
       " {'value': 347, 'volume': 0.0, 'weight': 1539},\n",
       " {'value': 325, 'volume': 0.0, 'weight': 560},\n",
       " {'value': 229, 'volume': 0.0, 'weight': 786},\n",
       " {'value': 282, 'volume': 0.0, 'weight': 369},\n",
       " {'value': 202, 'volume': 0.0, 'weight': 1106},\n",
       " {'value': 305, 'volume': 0.0, 'weight': 1358},\n",
       " {'value': 109, 'volume': 1.0, 'weight': 1636},\n",
       " {'value': 149, 'volume': 1.0, 'weight': 1130},\n",
       " {'value': 376, 'volume': 0.0, 'weight': 1612},\n",
       " {'value': 194, 'volume': 0.0, 'weight': 869},\n",
       " {'value': 307, 'volume': 1.0, 'weight': 1014},\n",
       " {'value': 172, 'volume': 0.0, 'weight': 656},\n",
       " {'value': 288, 'volume': 0.0, 'weight': 1333},\n",
       " {'value': 264, 'volume': 1.0, 'weight': 166},\n",
       " {'value': 187, 'volume': 0.0, 'weight': 1012},\n",
       " {'value': 301, 'volume': 0.0, 'weight': 691}]"
      ]
     },
     "execution_count": 6,
     "metadata": {},
     "output_type": "execute_result"
    }
   ],
   "source": [
    "knapsack_data"
   ]
  },
  {
   "cell_type": "code",
   "execution_count": null,
   "metadata": {},
   "outputs": [],
   "source": []
  }
 ],
 "metadata": {
  "kernelspec": {
   "display_name": "Python 2",
   "language": "python",
   "name": "python2"
  },
  "language_info": {
   "codemirror_mode": {
    "name": "ipython",
    "version": 2
   },
   "file_extension": ".py",
   "mimetype": "text/x-python",
   "name": "python",
   "nbconvert_exporter": "python",
   "pygments_lexer": "ipython2",
   "version": "2.7.16"
  }
 },
 "nbformat": 4,
 "nbformat_minor": 2
}
