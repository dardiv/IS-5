{
 "cells": [
  {
   "cell_type": "code",
   "execution_count": 1,
   "metadata": {},
   "outputs": [],
   "source": [
    "import json\n",
    "from copy import deepcopy\n",
    "import numpy as np\n",
    "import random as rnd"
   ]
  },
  {
   "cell_type": "code",
   "execution_count": 2,
   "metadata": {},
   "outputs": [],
   "source": [
    "res_weight = 0\n",
    "res_volume = 0\n",
    "res_price = 0\n",
    "res_items = []\n",
    "\n",
    "flg_stagnation = 0 \n",
    "population_one = []\n",
    "population_fitness = []\n",
    "child_population = []"
   ]
  },
  {
   "cell_type": "markdown",
   "metadata": {},
   "source": [
    "Получаем данные"
   ]
  },
  {
   "cell_type": "code",
   "execution_count": 3,
   "metadata": {},
   "outputs": [
    {
     "name": "stdout",
     "output_type": "stream",
     "text": [
      "weight:  13000.0 \n",
      "volume:  12.0\n"
     ]
    }
   ],
   "source": [
    "file = '1.txt'\n",
    "with open(file) as f:\n",
    "    data = f.readlines()\n",
    "\n",
    "items = [line.strip().split() for line in data]\n",
    "\n",
    "items = [[int(float(j)) for j in i] for i in items]\n",
    "\n",
    "weight_capacity=float(items[0][0])\n",
    "volume_capacity=float(items[0][1])\n",
    "items.pop(0)\n",
    "\n",
    "print('weight: ', weight_capacity, '\\nvolume: ', volume_capacity)\n",
    "capacities=[weight_capacity, volume_capacity]"
   ]
  },
  {
   "cell_type": "markdown",
   "metadata": {},
   "source": [
    "Функция приспособленности"
   ]
  },
  {
   "cell_type": "code",
   "execution_count": 4,
   "metadata": {},
   "outputs": [],
   "source": [
    "def fitness(one, data):\n",
    "    weight = 0\n",
    "    volume = 0\n",
    "    price = 0\n",
    "    \n",
    "    for i in range(len(one)):\n",
    "        if one[i]:\n",
    "            weight += data[i][0]\n",
    "            volume += data[i][1]\n",
    "            price += data[i][2]\n",
    "\n",
    "    if weight > weight_capacity or volume > volume_capacity:\n",
    "        price = 0\n",
    "    return price"
   ]
  },
  {
   "cell_type": "markdown",
   "metadata": {},
   "source": [
    "1.1 случайная генерация"
   ]
  },
  {
   "cell_type": "code",
   "execution_count": 5,
   "metadata": {},
   "outputs": [],
   "source": [
    "def make_pop(data):\n",
    "    arr = []\n",
    "    for i in range(len(data)):\n",
    "        arr.append(rnd.randint(0, 1))\n",
    "    return arr"
   ]
  },
  {
   "cell_type": "markdown",
   "metadata": {},
   "source": [
    "2.2 выбрать только 20% самых приспособленных особей"
   ]
  },
  {
   "cell_type": "code",
   "execution_count": 6,
   "metadata": {},
   "outputs": [],
   "source": [
    "def crossover_filter(population, data):\n",
    "    choosen = []\n",
    "    selected = []\n",
    "\n",
    "    for i in range(len(population)):\n",
    "        selected.append(fitness(population[i], data))\n",
    "    \n",
    "    len_choosen = int(len(selected) * 0.2)\n",
    "    select_sort = deepcopy(selected)\n",
    "    select_sort.sort(reverse = True)\n",
    "    select_sort = select_sort[:len_choosen]\n",
    "    \n",
    "    for i in select_sort:\n",
    "        indx = selected.index(i)\n",
    "        if indx:\n",
    "            choosen.append(population[indx])\n",
    "    return choosen"
   ]
  },
  {
   "cell_type": "markdown",
   "metadata": {},
   "source": [
    "3.1 многоточечный с 3мя точками"
   ]
  },
  {
   "cell_type": "code",
   "execution_count": 7,
   "metadata": {},
   "outputs": [],
   "source": [
    "def crossover(parent1, parent2):\n",
    "    dots = []\n",
    "    for i in range(0, 3):\n",
    "        dots.append(rnd.randint(1, len(parent1)))\n",
    "    dots.sort()\n",
    "    \n",
    "    dot_one1 = parent1[:dots[0]] + parent1[dots[1]:dots[2]]\n",
    "    dot_one2 = parent2[dots[0]:dots[1]] + parent2[dots[2]:]\n",
    "    \n",
    "    dot_two1 = parent1[dots[0]:dots[1]] + parent1[dots[2]:]\n",
    "    dot_two2 = parent2[:dots[0]] + parent2[dots[1]:dots[2]]\n",
    "    \n",
    "    child1 = dot_one1 + dot_one2\n",
    "    child2 =  dot_two1 + dot_two2\n",
    "    return child1, child2"
   ]
  },
  {
   "cell_type": "markdown",
   "metadata": {},
   "source": [
    "4.1 инвертирование всех битов у 1 особ"
   ]
  },
  {
   "cell_type": "code",
   "execution_count": 8,
   "metadata": {},
   "outputs": [],
   "source": [
    "def mutation(population):\n",
    "    if len(population) == 0:\n",
    "        return population\n",
    "\n",
    "    i = rnd.randint(0, len(population) - 1)\n",
    "    choosen = population[i]\n",
    "\n",
    "    for j in range(len(choosen)):\n",
    "        if choosen[j] == 1:\n",
    "            choosen[j] = 0 \n",
    "        else:\n",
    "            choosen[j] = 1\n",
    "\n",
    "    population[i] = choosen\n",
    "    return population"
   ]
  },
  {
   "cell_type": "markdown",
   "metadata": {},
   "source": [
    "5.1 замена не более 30% худших особей на потомков"
   ]
  },
  {
   "cell_type": "code",
   "execution_count": 9,
   "metadata": {},
   "outputs": [],
   "source": [
    "def update_population(old_pop, new_pop, data):\n",
    "    merged_pop_1 = []\n",
    "    merged_pop_2 = []\n",
    "    \n",
    "    for i in range(len(old_pop)):\n",
    "        merged_pop_1.append((fitness(old_pop[i], data), old_pop[i]))\n",
    "        \n",
    "    merged_pop_1 = sorted(merged_pop_1, key=lambda x: x[0], reverse=True)\n",
    "    len_old_pop =int(len(merged_pop_1) * 0.7)\n",
    "    merged_pop_1 = merged_pop_1[:len_old_pop]\n",
    "\n",
    "    for j in range(len(new_pop)):\n",
    "        merged_pop_2.append((fitness(new_pop[j], data), new_pop[j]))\n",
    "        \n",
    "    merged_pop_2 = sorted(merged_pop_2, key=lambda x: x[0], reverse=True)\n",
    "    len_new_pop =int(len(merged_pop_2) * 0.3)\n",
    "    merged_pop_2 = merged_pop_1[:len_new_pop]\n",
    "\n",
    "    better_pop = merged_pop_1\n",
    "    for i in merged_pop_2:\n",
    "        better_pop.append(i)\n",
    "        \n",
    "    choosen = []\n",
    "    for q in range(len(better_pop)):\n",
    "        choosen.append(better_pop[q][1])\n",
    "    return choosen"
   ]
  },
  {
   "cell_type": "markdown",
   "metadata": {},
   "source": [
    "Находим наиболее приспособленных индивида и популяцию"
   ]
  },
  {
   "cell_type": "code",
   "execution_count": 10,
   "metadata": {},
   "outputs": [],
   "source": [
    "def max_fit_one(population, data):\n",
    "    selected = []\n",
    "\n",
    "    for i in range(len(population)):\n",
    "        selected.append((fitness(population[i], data), population[i]))\n",
    "    max_fit = selected[0]\n",
    "    \n",
    "    for j in range(len(selected)):\n",
    "        if selected[j][0] > max_fit[0]:\n",
    "            max_fit = selected[j]\n",
    "    return max_fit"
   ]
  },
  {
   "cell_type": "code",
   "execution_count": 11,
   "metadata": {},
   "outputs": [],
   "source": [
    "def max_fit_pop(population, data):\n",
    "    selected = []\n",
    "\n",
    "    for i in range(len(population)):\n",
    "        selected.append(fitness(population[i], data))\n",
    "\n",
    "    max_fit = selected[0]\n",
    "    for j in range(len(selected)): \n",
    "        if selected[j] > max_fit:\n",
    "            max_fit = selected[j]\n",
    "    return max_fit"
   ]
  },
  {
   "cell_type": "markdown",
   "metadata": {},
   "source": [
    "Генетический алгоритм, последовательно вывызваем все предыдущие функции"
   ]
  },
  {
   "cell_type": "code",
   "execution_count": 12,
   "metadata": {},
   "outputs": [],
   "source": [
    "for i in range(200):\n",
    "    population_one.append(make_pop(items)) # генерируем первую популяцию\n",
    "\n",
    "for i in range(len(population_one)):\n",
    "    population_fitness.append(fitness(population_one[i], items))\n",
    "\n",
    "max_fit = population_fitness[0]\n",
    "for j in range(len(population_fitness)):\n",
    "    if population_fitness[j] > max_fit:\n",
    "        max_fit = population_fitness[j]\n",
    "current_fit = max_fit\n",
    "next_population = mutation(population_one)\n",
    "\n",
    "for g in range(500):\n",
    "    parents = crossover_filter(next_population, items) # отбор для скрещивания\n",
    "    for i in range(len(parents) - 1):\n",
    "        child = crossover(parents[i], parents[i + 1]) # скрещивание\n",
    "        child_population.append(child[0])\n",
    "        child_population.append(child[1])\n",
    "    child_population = mutation(child_population) # мутация\n",
    "\n",
    "    old_pop = next_population\n",
    "    next_population = update_population(next_population, child_population, items) # новая популяция\n",
    "    next_fit = max_fit_pop(next_population, items)  # оценка результата\n",
    "        \n",
    "    #проверяем,сильно ли изменилась приспособленность, если в 10 поколениях подряд минимлальные изменения - выходим\n",
    "    if abs((current_fit - next_fit) / ((current_fit + next_fit) / 2)) * 100 < 0.1:\n",
    "        if flg_stagnation > 10:\n",
    "            if current_fit > next_fit:\n",
    "                res = max_fit_one(old_pop, items)\n",
    "                break\n",
    "            else:\n",
    "                res = max_fit_one(next_population, items)\n",
    "                break\n",
    "        else:\n",
    "            flg_stagnation += 1\n",
    "    else:\n",
    "        flg_stagnation = 0\n",
    "        current_fit = next_fit\n",
    "    res = max_fit_one(next_population, items)"
   ]
  },
  {
   "cell_type": "code",
   "execution_count": 13,
   "metadata": {},
   "outputs": [],
   "source": [
    "for i in range(len(res[1])):\n",
    "    if res[1][i] > 0:\n",
    "        res_items.append(i)\n",
    "        res_weight += float(items[i][0])\n",
    "        res_volume += float(items[i][1])\n",
    "        res_price += float(items[i][2])"
   ]
  },
  {
   "cell_type": "markdown",
   "metadata": {},
   "source": [
    "Структурируем результат и пишем в json"
   ]
  },
  {
   "cell_type": "code",
   "execution_count": 14,
   "metadata": {},
   "outputs": [
    {
     "name": "stdout",
     "output_type": "stream",
     "text": [
      "{'weight': 12196.0, 'volume': 4.0, 'price': 3651.0, 'items': [4, 5, 13, 14, 15, 16, 17, 18, 22, 23, 24, 25, 27, 29]}\n"
     ]
    }
   ],
   "source": [
    "res = {\n",
    "    'weight': res_weight,\n",
    "    'volume': res_volume,\n",
    "    'price': res_price,\n",
    "    'items': res_items\n",
    "}\n",
    "\n",
    "print(res)\n",
    "\n",
    "with open('gen_self.json', 'w') as outfile:\n",
    "    json.dump(res, outfile)"
   ]
  },
  {
   "cell_type": "code",
   "execution_count": null,
   "metadata": {},
   "outputs": [],
   "source": []
  },
  {
   "cell_type": "code",
   "execution_count": null,
   "metadata": {},
   "outputs": [],
   "source": []
  }
 ],
 "metadata": {
  "kernelspec": {
   "display_name": "Python 3",
   "language": "python",
   "name": "python3"
  },
  "language_info": {
   "codemirror_mode": {
    "name": "ipython",
    "version": 3
   },
   "file_extension": ".py",
   "mimetype": "text/x-python",
   "name": "python",
   "nbconvert_exporter": "python",
   "pygments_lexer": "ipython3",
   "version": "3.7.3"
  }
 },
 "nbformat": 4,
 "nbformat_minor": 2
}
